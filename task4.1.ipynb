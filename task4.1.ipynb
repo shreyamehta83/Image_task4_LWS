{
 "cells": [
  {
   "cell_type": "code",
   "execution_count": 1,
   "id": "a48cfde7",
   "metadata": {},
   "outputs": [],
   "source": [
    "import numpy as np"
   ]
  },
  {
   "cell_type": "code",
   "execution_count": 2,
   "id": "29296d08",
   "metadata": {},
   "outputs": [],
   "source": [
    "import cv2 \n",
    "shreya_img = np.zeros((2000,1500,3), dtype=\"uint8\")\n",
    "for i in range(0,1000):\n",
    "    radius = np.random.randint(0,high=50)\n",
    "    color = np.random.randint(0, high=1000, size=(3,)).tolist()\n",
    "    pt = np.random.randint(0,high=5000, size=(2,))\n",
    "    cv2.circle(shreya_img, tuple(pt), radius , color ,-1)\n",
    "\n",
    "cv2.imshow(\"Created by Shreya\" ,shreya_img)\n",
    "cv2.waitKey()\n",
    "cv2.destroyAllWindows()"
   ]
  },
  {
   "cell_type": "code",
   "execution_count": null,
   "id": "3292d1e7",
   "metadata": {},
   "outputs": [],
   "source": []
  }
 ],
 "metadata": {
  "kernelspec": {
   "display_name": "Python 3",
   "language": "python",
   "name": "python3"
  },
  "language_info": {
   "codemirror_mode": {
    "name": "ipython",
    "version": 3
   },
   "file_extension": ".py",
   "mimetype": "text/x-python",
   "name": "python",
   "nbconvert_exporter": "python",
   "pygments_lexer": "ipython3",
   "version": "3.8.8"
  }
 },
 "nbformat": 4,
 "nbformat_minor": 5
}
